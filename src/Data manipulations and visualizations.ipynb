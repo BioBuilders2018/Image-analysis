{
 "cells": [
  {
   "cell_type": "code",
   "execution_count": 87,
   "metadata": {},
   "outputs": [],
   "source": [
    "import pandas as pd\n",
    "import plotly\n",
    "import plotly.plotly as py\n",
    "import plotly.figure_factory as ff\n",
    "import plotly.graph_objs as go\n",
    "import numpy as np"
   ]
  },
  {
   "cell_type": "code",
   "execution_count": 88,
   "metadata": {},
   "outputs": [],
   "source": [
    "plotly.tools.set_credentials_file(username='hhm', api_key='2SH21B42Tx14nbb3aZlA')\n",
    "plotly.tools.set_config_file(world_readable=True)"
   ]
  },
  {
   "cell_type": "markdown",
   "metadata": {},
   "source": [
    "# Load tables and view them"
   ]
  },
  {
   "cell_type": "code",
   "execution_count": 96,
   "metadata": {},
   "outputs": [
    {
     "data": {
      "text/html": [
       "<iframe id=\"igraph\" scrolling=\"no\" style=\"border:none;\" seamless=\"seamless\" src=\"https://plot.ly/~hhm/10.embed\" height=\"20240px\" width=\"100%\"></iframe>"
      ],
      "text/plain": [
       "<plotly.tools.PlotlyDisplay object>"
      ]
     },
     "execution_count": 96,
     "metadata": {},
     "output_type": "execute_result"
    }
   ],
   "source": [
    "# load medium growth tests df\n",
    "df1 = pd.read_csv('../data/medium_growths.csv', sep = \"\\t\", index_col=0)\n",
    "\n",
    "# clean up dirty columns\n",
    "df1[\"species\"] = df1[\"species\"].map(lambda x: x.strip('.jpg'))\n",
    "df1[\"concentration\"] = df1[\"concentration\"].replace(np.nan, \"NA\")\n",
    "\n",
    "# output nicely formatted table\n",
    "table = ff.create_table(df1.sort_values(by=['species', 'medium', 'date', 'dupl']))\n",
    "py.iplot(table, filename = \"Medium growth tests\")"
   ]
  },
  {
   "cell_type": "code",
   "execution_count": 94,
   "metadata": {},
   "outputs": [],
   "source": [
    "# load temperature and light source growth tests df\n",
    "# df2 = pd.read_csv('../data/tempLight_growths.csv', sep = \"\\t\", index_col=0)\n",
    "# df2[\"species\"] = df2[\"species\"].map(lambda x: x.strip('.jpg'))\n",
    "# table = ff.create_table(df2.sort_values(by=['species', 'medium', 'date', 'dupl']))\n",
    "# py.iplot(table, filename = \"Temperature and light source growth tests\")"
   ]
  },
  {
   "cell_type": "code",
   "execution_count": 97,
   "metadata": {},
   "outputs": [
    {
     "data": {
      "text/html": [
       "<iframe id=\"igraph\" scrolling=\"no\" style=\"border:none;\" seamless=\"seamless\" src=\"https://plot.ly/~hhm/22.embed\" height=\"525px\" width=\"100%\"></iframe>"
      ],
      "text/plain": [
       "<plotly.tools.PlotlyDisplay object>"
      ]
     },
     "execution_count": 97,
     "metadata": {},
     "output_type": "execute_result"
    }
   ],
   "source": [
    "species = list(set(df1[\"species\"]))\n",
    "species_traces = []\n",
    "\n",
    "species.pop(species.index(\"Nc\"))\n",
    "\n",
    "for specie in species:\n",
    "    species_dF = df1.loc[df1['species'] == specie]\n",
    "\n",
    "    uniqueMedia = set(species_dF[\"medium\"])\n",
    "\n",
    "    for media in uniqueMedia:\n",
    "        subDF = species_dF.loc[species_dF['medium'] == media]\n",
    "        uniqueConcentrations = set(subDF[\"concentration\"])\n",
    "\n",
    "        for concentration in uniqueConcentrations:\n",
    "            \n",
    "            trace = go.Scatter(\n",
    "                x = subDF.loc[subDF[\"concentration\"] == concentration]['date'], \n",
    "                y = subDF.loc[subDF[\"concentration\"] == concentration]['area'], \n",
    "                mode = \"markers\", \n",
    "                name = \"{2} {0} {1}\".format(media, concentration, specie),\n",
    "                marker = dict(opacity = 0.5, size = 5)\n",
    "            )\n",
    "\n",
    "            species_traces.append(trace)\n",
    "\n",
    "# data = [trace_Aoryzae_MEA_47, trace_Aoryzae_MEA_50,trace_Aoryzae_MEA_52]\n",
    "py.iplot(species_traces, filename = \"species plot\")"
   ]
  },
  {
   "cell_type": "code",
   "execution_count": null,
   "metadata": {},
   "outputs": [],
   "source": []
  }
 ],
 "metadata": {
  "kernelspec": {
   "display_name": "Python 3",
   "language": "python",
   "name": "python3"
  },
  "language_info": {
   "codemirror_mode": {
    "name": "ipython",
    "version": 3
   },
   "file_extension": ".py",
   "mimetype": "text/x-python",
   "name": "python",
   "nbconvert_exporter": "python",
   "pygments_lexer": "ipython3",
   "version": "3.6.5"
  }
 },
 "nbformat": 4,
 "nbformat_minor": 2
}
